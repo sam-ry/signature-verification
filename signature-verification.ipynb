{
 "cells": [
  {
   "cell_type": "markdown",
   "id": "262c11a8",
   "metadata": {
    "papermill": {
     "duration": 0.003891,
     "end_time": "2025-07-03T05:13:24.776360",
     "exception": false,
     "start_time": "2025-07-03T05:13:24.772469",
     "status": "completed"
    },
    "tags": []
   },
   "source": [
    "## Signature Verification using Siamese Networks"
   ]
  },
  {
   "cell_type": "markdown",
   "id": "81b95fec",
   "metadata": {
    "papermill": {
     "duration": 0.002865,
     "end_time": "2025-07-03T05:13:24.782388",
     "exception": false,
     "start_time": "2025-07-03T05:13:24.779523",
     "status": "completed"
    },
    "tags": []
   },
   "source": [
    "#### work flow\n",
    "input - 2 images and a label  \n",
    "get embeddings from a basic model (EffitientNet overfits)  \n",
    "calculate similarity - how close these 2 vectors are in space  \n",
    "The label (1 or 0) supervises this learning:\n",
    "If two images are labeled as similar (1) but embeddings are far → loss is high → update weights.\n",
    "If labeled as different (0) but embeddings are close → loss is high → update weights.  \n",
    "higher similarity -> Genuine, lower -> forged"
   ]
  },
  {
   "cell_type": "code",
   "execution_count": 1,
   "id": "2d0fe631",
   "metadata": {
    "execution": {
     "iopub.execute_input": "2025-07-03T05:13:24.789263Z",
     "iopub.status.busy": "2025-07-03T05:13:24.789002Z",
     "iopub.status.idle": "2025-07-03T05:13:40.368992Z",
     "shell.execute_reply": "2025-07-03T05:13:40.368155Z"
    },
    "papermill": {
     "duration": 15.585111,
     "end_time": "2025-07-03T05:13:40.370401",
     "exception": false,
     "start_time": "2025-07-03T05:13:24.785290",
     "status": "completed"
    },
    "tags": []
   },
   "outputs": [
    {
     "name": "stderr",
     "output_type": "stream",
     "text": [
      "2025-07-03 05:13:26.376727: E external/local_xla/xla/stream_executor/cuda/cuda_fft.cc:477] Unable to register cuFFT factory: Attempting to register factory for plugin cuFFT when one has already been registered\n",
      "WARNING: All log messages before absl::InitializeLog() is called are written to STDERR\n",
      "E0000 00:00:1751519606.576695      19 cuda_dnn.cc:8310] Unable to register cuDNN factory: Attempting to register factory for plugin cuDNN when one has already been registered\n",
      "E0000 00:00:1751519606.636844      19 cuda_blas.cc:1418] Unable to register cuBLAS factory: Attempting to register factory for plugin cuBLAS when one has already been registered\n"
     ]
    }
   ],
   "source": [
    "import tensorflow as tf\n",
    "import os"
   ]
  },
  {
   "cell_type": "code",
   "execution_count": 2,
   "id": "8c9cb221",
   "metadata": {
    "execution": {
     "iopub.execute_input": "2025-07-03T05:13:40.378849Z",
     "iopub.status.busy": "2025-07-03T05:13:40.377973Z",
     "iopub.status.idle": "2025-07-03T05:13:40.396756Z",
     "shell.execute_reply": "2025-07-03T05:13:40.395950Z"
    },
    "papermill": {
     "duration": 0.023955,
     "end_time": "2025-07-03T05:13:40.397906",
     "exception": false,
     "start_time": "2025-07-03T05:13:40.373951",
     "status": "completed"
    },
    "tags": []
   },
   "outputs": [
    {
     "name": "stdout",
     "output_type": "stream",
     "text": [
      "training data directories 128\n"
     ]
    }
   ],
   "source": [
    "path = '/kaggle/input/signature-verification-dataset/sign_data/train'\n",
    "ls = os.listdir(path)\n",
    "print('training data directories',len(ls))"
   ]
  },
  {
   "cell_type": "markdown",
   "id": "251c93e1",
   "metadata": {
    "papermill": {
     "duration": 0.002878,
     "end_time": "2025-07-03T05:13:40.404061",
     "exception": false,
     "start_time": "2025-07-03T05:13:40.401183",
     "status": "completed"
    },
    "tags": []
   },
   "source": [
    "#### Preprocess & Pair the signatures  \n",
    "input format: ( (img1, img2), label)  \n",
    "label = 1: Two genuine signatures from the same person.  \n",
    "label = 0: One genuine and one forged signature from the same person.  "
   ]
  },
  {
   "cell_type": "code",
   "execution_count": 3,
   "id": "d6dc0347",
   "metadata": {
    "execution": {
     "iopub.execute_input": "2025-07-03T05:13:40.411132Z",
     "iopub.status.busy": "2025-07-03T05:13:40.410680Z",
     "iopub.status.idle": "2025-07-03T05:13:40.417346Z",
     "shell.execute_reply": "2025-07-03T05:13:40.416645Z"
    },
    "papermill": {
     "duration": 0.011333,
     "end_time": "2025-07-03T05:13:40.418405",
     "exception": false,
     "start_time": "2025-07-03T05:13:40.407072",
     "status": "completed"
    },
    "tags": []
   },
   "outputs": [],
   "source": [
    "import random\n",
    "from PIL import Image\n",
    "import numpy as np\n",
    "\n",
    "def load_signature_pairs(data_dir):\n",
    "    pairs = []\n",
    "    labels = []\n",
    "    \n",
    "    users = sorted([name for name in os.listdir(data_dir) if '_' not in name])\n",
    "    \n",
    "    for user in users:\n",
    "        genuine_dir = os.path.join(data_dir, user)\n",
    "        forg_dir = genuine_dir + '_forg'\n",
    "        \n",
    "        genuine_imgs = os.listdir(genuine_dir)\n",
    "        forgery_imgs = os.listdir(forg_dir)\n",
    "        \n",
    "        num_genuine = len(genuine_imgs)\n",
    "        \n",
    "        # Random positive pairs (genuine vs different genuine)\n",
    "        random_indices = [\n",
    "            random.choice([j for j in range(num_genuine) if j != i])\n",
    "            for i in range(num_genuine)\n",
    "        ]\n",
    "        \n",
    "        for i in range(num_genuine):\n",
    "            img1 = os.path.join(genuine_dir, genuine_imgs[i])\n",
    "            img2 = os.path.join(genuine_dir, genuine_imgs[random_indices[i]])\n",
    "            pairs.append((img1, img2))\n",
    "            labels.append(1)\n",
    "\n",
    "        # Negative pairs (genuine vs forgery)\n",
    "        for i in range(min(len(genuine_imgs), len(forgery_imgs))):\n",
    "            img1 = os.path.join(genuine_dir, genuine_imgs[i])\n",
    "            img2 = os.path.join(forg_dir, forgery_imgs[i])\n",
    "            pairs.append((img1, img2))\n",
    "            labels.append(0)\n",
    "    \n",
    "    return pairs, labels\n"
   ]
  },
  {
   "cell_type": "code",
   "execution_count": 4,
   "id": "e8cd2a96",
   "metadata": {
    "execution": {
     "iopub.execute_input": "2025-07-03T05:13:40.425191Z",
     "iopub.status.busy": "2025-07-03T05:13:40.424990Z",
     "iopub.status.idle": "2025-07-03T05:13:41.144042Z",
     "shell.execute_reply": "2025-07-03T05:13:41.143257Z"
    },
    "papermill": {
     "duration": 0.723771,
     "end_time": "2025-07-03T05:13:41.145274",
     "exception": false,
     "start_time": "2025-07-03T05:13:40.421503",
     "status": "completed"
    },
    "tags": []
   },
   "outputs": [
    {
     "name": "stdout",
     "output_type": "stream",
     "text": [
      "1606 1606\n"
     ]
    }
   ],
   "source": [
    "path = '/kaggle/input/signature-verification-dataset/sign_data/train'\n",
    "pairs, labels = load_signature_pairs(path)\n",
    "print(len(pairs), len(labels))"
   ]
  },
  {
   "cell_type": "markdown",
   "id": "b9ac33d2",
   "metadata": {
    "papermill": {
     "duration": 0.003296,
     "end_time": "2025-07-03T05:13:41.152192",
     "exception": false,
     "start_time": "2025-07-03T05:13:41.148896",
     "status": "completed"
    },
    "tags": []
   },
   "source": [
    "### backbone\n",
    "caluculate embeddings for each image to compare similarity (how close they are in space)  \n",
    "Input: 224×224 grayscale image  \n",
    "Output: 256-dimensional embedding for input image."
   ]
  },
  {
   "cell_type": "code",
   "execution_count": 5,
   "id": "41f87913",
   "metadata": {
    "execution": {
     "iopub.execute_input": "2025-07-03T05:13:41.159352Z",
     "iopub.status.busy": "2025-07-03T05:13:41.158996Z",
     "iopub.status.idle": "2025-07-03T05:13:41.216458Z",
     "shell.execute_reply": "2025-07-03T05:13:41.215894Z"
    },
    "papermill": {
     "duration": 0.062409,
     "end_time": "2025-07-03T05:13:41.217764",
     "exception": false,
     "start_time": "2025-07-03T05:13:41.155355",
     "status": "completed"
    },
    "tags": []
   },
   "outputs": [],
   "source": [
    "from tensorflow.keras import layers, Model\n",
    "# from tensorflow.keras.applications import EfficientNetB0\n",
    "\n",
    "IMG_SIZE = 224\n",
    "\n",
    "def build_backbone():\n",
    "    inputs = tf.keras.Input(shape=(224, 224, 1))\n",
    "    x = layers.Conv2D(64, 3, activation='relu')(inputs) # basic feature extraction\n",
    "    x = layers.MaxPooling2D()(x) # reduces spatial size\n",
    "    x = layers.Conv2D(128, 3, activation='relu')(x) # d eeper pattern detection\n",
    "    x = layers.GlobalAveragePooling2D()(x) # flattens spatial info into a single vector\n",
    "    x = layers.Dense(256, activation='relu')(x) # embedding layer\n",
    "    return Model(inputs, x, name=\"SimpleCNNBackbone\")"
   ]
  },
  {
   "cell_type": "markdown",
   "id": "412b537c",
   "metadata": {
    "papermill": {
     "duration": 0.002958,
     "end_time": "2025-07-03T05:13:41.224058",
     "exception": false,
     "start_time": "2025-07-03T05:13:41.221100",
     "status": "completed"
    },
    "tags": []
   },
   "source": [
    "Feature Extraction:\n",
    "Pass both images through the backbone (shared weights) to get embeddings.  \n",
    "Similarity Calculation:\n",
    "Use L1 distance (absolute difference) between the two embeddings.  \n",
    "Output Layer:\n",
    "sigmoid activation gives a similarity score (between 0 and 1).  \n"
   ]
  },
  {
   "cell_type": "markdown",
   "id": "06cb62d3",
   "metadata": {
    "papermill": {
     "duration": 0.002851,
     "end_time": "2025-07-03T05:13:41.229914",
     "exception": false,
     "start_time": "2025-07-03T05:13:41.227063",
     "status": "completed"
    },
    "tags": []
   },
   "source": [
    "### siamese neural network"
   ]
  },
  {
   "cell_type": "code",
   "execution_count": 6,
   "id": "55fc7d0f",
   "metadata": {
    "execution": {
     "iopub.execute_input": "2025-07-03T05:13:41.236723Z",
     "iopub.status.busy": "2025-07-03T05:13:41.236489Z",
     "iopub.status.idle": "2025-07-03T05:13:43.596000Z",
     "shell.execute_reply": "2025-07-03T05:13:43.595438Z"
    },
    "papermill": {
     "duration": 2.364106,
     "end_time": "2025-07-03T05:13:43.597027",
     "exception": false,
     "start_time": "2025-07-03T05:13:41.232921",
     "status": "completed"
    },
    "tags": []
   },
   "outputs": [
    {
     "name": "stderr",
     "output_type": "stream",
     "text": [
      "I0000 00:00:1751519622.331884      19 gpu_device.cc:2022] Created device /job:localhost/replica:0/task:0/device:GPU:0 with 15513 MB memory:  -> device: 0, name: Tesla P100-PCIE-16GB, pci bus id: 0000:00:04.0, compute capability: 6.0\n"
     ]
    },
    {
     "data": {
      "text/html": [
       "<pre style=\"white-space:pre;overflow-x:auto;line-height:normal;font-family:Menlo,'DejaVu Sans Mono',consolas,'Courier New',monospace\"><span style=\"font-weight: bold\">Model: \"functional\"</span>\n",
       "</pre>\n"
      ],
      "text/plain": [
       "\u001b[1mModel: \"functional\"\u001b[0m\n"
      ]
     },
     "metadata": {},
     "output_type": "display_data"
    },
    {
     "data": {
      "text/html": [
       "<pre style=\"white-space:pre;overflow-x:auto;line-height:normal;font-family:Menlo,'DejaVu Sans Mono',consolas,'Courier New',monospace\">┏━━━━━━━━━━━━━━━━━━━━━━━━━━━┳━━━━━━━━━━━━━━━━━━━━━━━━┳━━━━━━━━━━━━━━━━┳━━━━━━━━━━━━━━━━━━━━━━━━┓\n",
       "┃<span style=\"font-weight: bold\"> Layer (type)              </span>┃<span style=\"font-weight: bold\"> Output Shape           </span>┃<span style=\"font-weight: bold\">        Param # </span>┃<span style=\"font-weight: bold\"> Connected to           </span>┃\n",
       "┡━━━━━━━━━━━━━━━━━━━━━━━━━━━╇━━━━━━━━━━━━━━━━━━━━━━━━╇━━━━━━━━━━━━━━━━╇━━━━━━━━━━━━━━━━━━━━━━━━┩\n",
       "│ input_layer_1             │ (<span style=\"color: #00d7ff; text-decoration-color: #00d7ff\">None</span>, <span style=\"color: #00af00; text-decoration-color: #00af00\">224</span>, <span style=\"color: #00af00; text-decoration-color: #00af00\">224</span>, <span style=\"color: #00af00; text-decoration-color: #00af00\">1</span>)    │              <span style=\"color: #00af00; text-decoration-color: #00af00\">0</span> │ -                      │\n",
       "│ (<span style=\"color: #0087ff; text-decoration-color: #0087ff\">InputLayer</span>)              │                        │                │                        │\n",
       "├───────────────────────────┼────────────────────────┼────────────────┼────────────────────────┤\n",
       "│ input_layer_2             │ (<span style=\"color: #00d7ff; text-decoration-color: #00d7ff\">None</span>, <span style=\"color: #00af00; text-decoration-color: #00af00\">224</span>, <span style=\"color: #00af00; text-decoration-color: #00af00\">224</span>, <span style=\"color: #00af00; text-decoration-color: #00af00\">1</span>)    │              <span style=\"color: #00af00; text-decoration-color: #00af00\">0</span> │ -                      │\n",
       "│ (<span style=\"color: #0087ff; text-decoration-color: #0087ff\">InputLayer</span>)              │                        │                │                        │\n",
       "├───────────────────────────┼────────────────────────┼────────────────┼────────────────────────┤\n",
       "│ SimpleCNNBackbone         │ (<span style=\"color: #00d7ff; text-decoration-color: #00d7ff\">None</span>, <span style=\"color: #00af00; text-decoration-color: #00af00\">256</span>)            │        <span style=\"color: #00af00; text-decoration-color: #00af00\">107,520</span> │ input_layer_1[<span style=\"color: #00af00; text-decoration-color: #00af00\">0</span>][<span style=\"color: #00af00; text-decoration-color: #00af00\">0</span>],   │\n",
       "│ (<span style=\"color: #0087ff; text-decoration-color: #0087ff\">Functional</span>)              │                        │                │ input_layer_2[<span style=\"color: #00af00; text-decoration-color: #00af00\">0</span>][<span style=\"color: #00af00; text-decoration-color: #00af00\">0</span>]    │\n",
       "├───────────────────────────┼────────────────────────┼────────────────┼────────────────────────┤\n",
       "│ concatenate (<span style=\"color: #0087ff; text-decoration-color: #0087ff\">Concatenate</span>) │ (<span style=\"color: #00d7ff; text-decoration-color: #00d7ff\">None</span>, <span style=\"color: #00af00; text-decoration-color: #00af00\">512</span>)            │              <span style=\"color: #00af00; text-decoration-color: #00af00\">0</span> │ SimpleCNNBackbone[<span style=\"color: #00af00; text-decoration-color: #00af00\">0</span>][<span style=\"color: #00af00; text-decoration-color: #00af00\">…</span> │\n",
       "│                           │                        │                │ SimpleCNNBackbone[<span style=\"color: #00af00; text-decoration-color: #00af00\">1</span>][<span style=\"color: #00af00; text-decoration-color: #00af00\">…</span> │\n",
       "├───────────────────────────┼────────────────────────┼────────────────┼────────────────────────┤\n",
       "│ dense_1 (<span style=\"color: #0087ff; text-decoration-color: #0087ff\">Dense</span>)           │ (<span style=\"color: #00d7ff; text-decoration-color: #00d7ff\">None</span>, <span style=\"color: #00af00; text-decoration-color: #00af00\">128</span>)            │         <span style=\"color: #00af00; text-decoration-color: #00af00\">65,664</span> │ concatenate[<span style=\"color: #00af00; text-decoration-color: #00af00\">0</span>][<span style=\"color: #00af00; text-decoration-color: #00af00\">0</span>]      │\n",
       "├───────────────────────────┼────────────────────────┼────────────────┼────────────────────────┤\n",
       "│ dense_2 (<span style=\"color: #0087ff; text-decoration-color: #0087ff\">Dense</span>)           │ (<span style=\"color: #00d7ff; text-decoration-color: #00d7ff\">None</span>, <span style=\"color: #00af00; text-decoration-color: #00af00\">1</span>)              │            <span style=\"color: #00af00; text-decoration-color: #00af00\">129</span> │ dense_1[<span style=\"color: #00af00; text-decoration-color: #00af00\">0</span>][<span style=\"color: #00af00; text-decoration-color: #00af00\">0</span>]          │\n",
       "└───────────────────────────┴────────────────────────┴────────────────┴────────────────────────┘\n",
       "</pre>\n"
      ],
      "text/plain": [
       "┏━━━━━━━━━━━━━━━━━━━━━━━━━━━┳━━━━━━━━━━━━━━━━━━━━━━━━┳━━━━━━━━━━━━━━━━┳━━━━━━━━━━━━━━━━━━━━━━━━┓\n",
       "┃\u001b[1m \u001b[0m\u001b[1mLayer (type)             \u001b[0m\u001b[1m \u001b[0m┃\u001b[1m \u001b[0m\u001b[1mOutput Shape          \u001b[0m\u001b[1m \u001b[0m┃\u001b[1m \u001b[0m\u001b[1m       Param #\u001b[0m\u001b[1m \u001b[0m┃\u001b[1m \u001b[0m\u001b[1mConnected to          \u001b[0m\u001b[1m \u001b[0m┃\n",
       "┡━━━━━━━━━━━━━━━━━━━━━━━━━━━╇━━━━━━━━━━━━━━━━━━━━━━━━╇━━━━━━━━━━━━━━━━╇━━━━━━━━━━━━━━━━━━━━━━━━┩\n",
       "│ input_layer_1             │ (\u001b[38;5;45mNone\u001b[0m, \u001b[38;5;34m224\u001b[0m, \u001b[38;5;34m224\u001b[0m, \u001b[38;5;34m1\u001b[0m)    │              \u001b[38;5;34m0\u001b[0m │ -                      │\n",
       "│ (\u001b[38;5;33mInputLayer\u001b[0m)              │                        │                │                        │\n",
       "├───────────────────────────┼────────────────────────┼────────────────┼────────────────────────┤\n",
       "│ input_layer_2             │ (\u001b[38;5;45mNone\u001b[0m, \u001b[38;5;34m224\u001b[0m, \u001b[38;5;34m224\u001b[0m, \u001b[38;5;34m1\u001b[0m)    │              \u001b[38;5;34m0\u001b[0m │ -                      │\n",
       "│ (\u001b[38;5;33mInputLayer\u001b[0m)              │                        │                │                        │\n",
       "├───────────────────────────┼────────────────────────┼────────────────┼────────────────────────┤\n",
       "│ SimpleCNNBackbone         │ (\u001b[38;5;45mNone\u001b[0m, \u001b[38;5;34m256\u001b[0m)            │        \u001b[38;5;34m107,520\u001b[0m │ input_layer_1[\u001b[38;5;34m0\u001b[0m][\u001b[38;5;34m0\u001b[0m],   │\n",
       "│ (\u001b[38;5;33mFunctional\u001b[0m)              │                        │                │ input_layer_2[\u001b[38;5;34m0\u001b[0m][\u001b[38;5;34m0\u001b[0m]    │\n",
       "├───────────────────────────┼────────────────────────┼────────────────┼────────────────────────┤\n",
       "│ concatenate (\u001b[38;5;33mConcatenate\u001b[0m) │ (\u001b[38;5;45mNone\u001b[0m, \u001b[38;5;34m512\u001b[0m)            │              \u001b[38;5;34m0\u001b[0m │ SimpleCNNBackbone[\u001b[38;5;34m0\u001b[0m][\u001b[38;5;34m…\u001b[0m │\n",
       "│                           │                        │                │ SimpleCNNBackbone[\u001b[38;5;34m1\u001b[0m][\u001b[38;5;34m…\u001b[0m │\n",
       "├───────────────────────────┼────────────────────────┼────────────────┼────────────────────────┤\n",
       "│ dense_1 (\u001b[38;5;33mDense\u001b[0m)           │ (\u001b[38;5;45mNone\u001b[0m, \u001b[38;5;34m128\u001b[0m)            │         \u001b[38;5;34m65,664\u001b[0m │ concatenate[\u001b[38;5;34m0\u001b[0m][\u001b[38;5;34m0\u001b[0m]      │\n",
       "├───────────────────────────┼────────────────────────┼────────────────┼────────────────────────┤\n",
       "│ dense_2 (\u001b[38;5;33mDense\u001b[0m)           │ (\u001b[38;5;45mNone\u001b[0m, \u001b[38;5;34m1\u001b[0m)              │            \u001b[38;5;34m129\u001b[0m │ dense_1[\u001b[38;5;34m0\u001b[0m][\u001b[38;5;34m0\u001b[0m]          │\n",
       "└───────────────────────────┴────────────────────────┴────────────────┴────────────────────────┘\n"
      ]
     },
     "metadata": {},
     "output_type": "display_data"
    },
    {
     "data": {
      "text/html": [
       "<pre style=\"white-space:pre;overflow-x:auto;line-height:normal;font-family:Menlo,'DejaVu Sans Mono',consolas,'Courier New',monospace\"><span style=\"font-weight: bold\"> Total params: </span><span style=\"color: #00af00; text-decoration-color: #00af00\">173,313</span> (677.00 KB)\n",
       "</pre>\n"
      ],
      "text/plain": [
       "\u001b[1m Total params: \u001b[0m\u001b[38;5;34m173,313\u001b[0m (677.00 KB)\n"
      ]
     },
     "metadata": {},
     "output_type": "display_data"
    },
    {
     "data": {
      "text/html": [
       "<pre style=\"white-space:pre;overflow-x:auto;line-height:normal;font-family:Menlo,'DejaVu Sans Mono',consolas,'Courier New',monospace\"><span style=\"font-weight: bold\"> Trainable params: </span><span style=\"color: #00af00; text-decoration-color: #00af00\">173,313</span> (677.00 KB)\n",
       "</pre>\n"
      ],
      "text/plain": [
       "\u001b[1m Trainable params: \u001b[0m\u001b[38;5;34m173,313\u001b[0m (677.00 KB)\n"
      ]
     },
     "metadata": {},
     "output_type": "display_data"
    },
    {
     "data": {
      "text/html": [
       "<pre style=\"white-space:pre;overflow-x:auto;line-height:normal;font-family:Menlo,'DejaVu Sans Mono',consolas,'Courier New',monospace\"><span style=\"font-weight: bold\"> Non-trainable params: </span><span style=\"color: #00af00; text-decoration-color: #00af00\">0</span> (0.00 B)\n",
       "</pre>\n"
      ],
      "text/plain": [
       "\u001b[1m Non-trainable params: \u001b[0m\u001b[38;5;34m0\u001b[0m (0.00 B)\n"
      ]
     },
     "metadata": {},
     "output_type": "display_data"
    }
   ],
   "source": [
    "import tensorflow as tf\n",
    "from tensorflow.keras import layers, Model\n",
    "\n",
    "def build_siamese_network(backbone):\n",
    "    inp1 = layers.Input((IMG_SIZE,IMG_SIZE,1))\n",
    "    inp2 = layers.Input((IMG_SIZE,IMG_SIZE,1))\n",
    "    e1 = backbone(inp1)\n",
    "    e2 = backbone(inp2)\n",
    "    # No Lambda—just concat\n",
    "    merged = layers.Concatenate()([e1, e2])\n",
    "    x = layers.Dense(128, activation=\"relu\")(merged)\n",
    "    out = layers.Dense(1, activation=\"sigmoid\")(x)\n",
    "    return Model([inp1, inp2], out)\n",
    "\n",
    "backbone = build_backbone()\n",
    "siamese_model = build_siamese_network(backbone)\n",
    "siamese_model.compile(optimizer='adam', loss='binary_crossentropy', metrics=['accuracy'])\n",
    "siamese_model.summary()"
   ]
  },
  {
   "cell_type": "markdown",
   "id": "1bab67f2",
   "metadata": {
    "papermill": {
     "duration": 0.003663,
     "end_time": "2025-07-03T05:13:43.604652",
     "exception": false,
     "start_time": "2025-07-03T05:13:43.600989",
     "status": "completed"
    },
    "tags": []
   },
   "source": [
    "input image -> grayscale, [224, 224] px, normalized"
   ]
  },
  {
   "cell_type": "code",
   "execution_count": 7,
   "id": "72bb77ce",
   "metadata": {
    "execution": {
     "iopub.execute_input": "2025-07-03T05:13:43.613049Z",
     "iopub.status.busy": "2025-07-03T05:13:43.612836Z",
     "iopub.status.idle": "2025-07-03T05:13:43.721646Z",
     "shell.execute_reply": "2025-07-03T05:13:43.720886Z"
    },
    "papermill": {
     "duration": 0.114171,
     "end_time": "2025-07-03T05:13:43.722838",
     "exception": false,
     "start_time": "2025-07-03T05:13:43.608667",
     "status": "completed"
    },
    "tags": []
   },
   "outputs": [
    {
     "name": "stdout",
     "output_type": "stream",
     "text": [
      "51\n"
     ]
    }
   ],
   "source": [
    "def preprocess_image(path):\n",
    "    image = tf.io.read_file(path)\n",
    "    image = tf.image.decode_png(image, channels=1)  # grayscale\n",
    "    image = tf.image.resize(image, [224, 224])\n",
    "    image = tf.cast(image, tf.float32) / 255.0\n",
    "    return image  # shape: (224, 224, 1)\n",
    "    \n",
    "def make_tf_dataset(pairs, labels, batch_size=32, shuffle=True):\n",
    "    path_ds = tf.data.Dataset.from_tensor_slices((pairs, labels))\n",
    "\n",
    "    def load_images(pair, label):\n",
    "        img1 = preprocess_image(pair[0])\n",
    "        img2 = preprocess_image(pair[1])\n",
    "        return (img1, img2), label\n",
    "\n",
    "    dataset = path_ds.map(load_images, num_parallel_calls=tf.data.AUTOTUNE)\n",
    "    # num_parallel_calls=tf.data.AUTOTUNE lets TensorFlow load multiple images in parallel = faster.\n",
    "    dataset = dataset.shuffle(1000).batch(batch_size).prefetch(tf.data.AUTOTUNE)\n",
    "    return dataset\n",
    "    \n",
    "train_dataset = make_tf_dataset(pairs, labels, batch_size=32)\n",
    "print(len(train_dataset))"
   ]
  },
  {
   "cell_type": "code",
   "execution_count": 8,
   "id": "30ad1008",
   "metadata": {
    "execution": {
     "iopub.execute_input": "2025-07-03T05:13:43.731367Z",
     "iopub.status.busy": "2025-07-03T05:13:43.731141Z",
     "iopub.status.idle": "2025-07-03T05:14:52.579442Z",
     "shell.execute_reply": "2025-07-03T05:14:52.578768Z"
    },
    "papermill": {
     "duration": 68.854033,
     "end_time": "2025-07-03T05:14:52.580695",
     "exception": false,
     "start_time": "2025-07-03T05:13:43.726662",
     "status": "completed"
    },
    "tags": []
   },
   "outputs": [
    {
     "name": "stdout",
     "output_type": "stream",
     "text": [
      "Epoch 1/10\n"
     ]
    },
    {
     "name": "stderr",
     "output_type": "stream",
     "text": [
      "WARNING: All log messages before absl::InitializeLog() is called are written to STDERR\n",
      "I0000 00:00:1751519629.440104      59 service.cc:148] XLA service 0x7a3d40085b60 initialized for platform CUDA (this does not guarantee that XLA will be used). Devices:\n",
      "I0000 00:00:1751519629.440924      59 service.cc:156]   StreamExecutor device (0): Tesla P100-PCIE-16GB, Compute Capability 6.0\n",
      "I0000 00:00:1751519629.829018      59 cuda_dnn.cc:529] Loaded cuDNN version 90300\n"
     ]
    },
    {
     "name": "stdout",
     "output_type": "stream",
     "text": [
      "\u001b[1m 1/51\u001b[0m \u001b[37m━━━━━━━━━━━━━━━━━━━━\u001b[0m \u001b[1m8:21\u001b[0m 10s/step - accuracy: 0.5000 - loss: 0.6932"
     ]
    },
    {
     "name": "stderr",
     "output_type": "stream",
     "text": [
      "I0000 00:00:1751519633.610618      59 device_compiler.h:188] Compiled cluster using XLA!  This line is logged at most once for the lifetime of the process.\n"
     ]
    },
    {
     "name": "stdout",
     "output_type": "stream",
     "text": [
      "\u001b[1m51/51\u001b[0m \u001b[32m━━━━━━━━━━━━━━━━━━━━\u001b[0m\u001b[37m\u001b[0m \u001b[1m15s\u001b[0m 109ms/step - accuracy: 0.5430 - loss: 0.6895\n",
      "Epoch 2/10\n",
      "\u001b[1m51/51\u001b[0m \u001b[32m━━━━━━━━━━━━━━━━━━━━\u001b[0m\u001b[37m\u001b[0m \u001b[1m6s\u001b[0m 67ms/step - accuracy: 0.5558 - loss: 0.6831\n",
      "Epoch 3/10\n",
      "\u001b[1m51/51\u001b[0m \u001b[32m━━━━━━━━━━━━━━━━━━━━\u001b[0m\u001b[37m\u001b[0m \u001b[1m6s\u001b[0m 68ms/step - accuracy: 0.7800 - loss: 0.5252\n",
      "Epoch 4/10\n",
      "\u001b[1m51/51\u001b[0m \u001b[32m━━━━━━━━━━━━━━━━━━━━\u001b[0m\u001b[37m\u001b[0m \u001b[1m6s\u001b[0m 69ms/step - accuracy: 0.8827 - loss: 0.3093\n",
      "Epoch 5/10\n",
      "\u001b[1m51/51\u001b[0m \u001b[32m━━━━━━━━━━━━━━━━━━━━\u001b[0m\u001b[37m\u001b[0m \u001b[1m6s\u001b[0m 68ms/step - accuracy: 0.9131 - loss: 0.2600\n",
      "Epoch 6/10\n",
      "\u001b[1m51/51\u001b[0m \u001b[32m━━━━━━━━━━━━━━━━━━━━\u001b[0m\u001b[37m\u001b[0m \u001b[1m6s\u001b[0m 68ms/step - accuracy: 0.9074 - loss: 0.2298\n",
      "Epoch 7/10\n",
      "\u001b[1m51/51\u001b[0m \u001b[32m━━━━━━━━━━━━━━━━━━━━\u001b[0m\u001b[37m\u001b[0m \u001b[1m6s\u001b[0m 67ms/step - accuracy: 0.9453 - loss: 0.1786\n",
      "Epoch 8/10\n",
      "\u001b[1m51/51\u001b[0m \u001b[32m━━━━━━━━━━━━━━━━━━━━\u001b[0m\u001b[37m\u001b[0m \u001b[1m6s\u001b[0m 67ms/step - accuracy: 0.9355 - loss: 0.1733\n",
      "Epoch 9/10\n",
      "\u001b[1m51/51\u001b[0m \u001b[32m━━━━━━━━━━━━━━━━━━━━\u001b[0m\u001b[37m\u001b[0m \u001b[1m6s\u001b[0m 67ms/step - accuracy: 0.9478 - loss: 0.1489\n",
      "Epoch 10/10\n",
      "\u001b[1m51/51\u001b[0m \u001b[32m━━━━━━━━━━━━━━━━━━━━\u001b[0m\u001b[37m\u001b[0m \u001b[1m6s\u001b[0m 66ms/step - accuracy: 0.9405 - loss: 0.1787\n"
     ]
    },
    {
     "data": {
      "text/plain": [
       "<keras.src.callbacks.history.History at 0x7a3e1c10e210>"
      ]
     },
     "execution_count": 8,
     "metadata": {},
     "output_type": "execute_result"
    }
   ],
   "source": [
    "siamese_model.fit(train_dataset, epochs=10)"
   ]
  },
  {
   "cell_type": "code",
   "execution_count": 9,
   "id": "228cdefd",
   "metadata": {
    "execution": {
     "iopub.execute_input": "2025-07-03T05:14:52.629872Z",
     "iopub.status.busy": "2025-07-03T05:14:52.629634Z",
     "iopub.status.idle": "2025-07-03T05:14:58.044999Z",
     "shell.execute_reply": "2025-07-03T05:14:58.044341Z"
    },
    "papermill": {
     "duration": 5.440751,
     "end_time": "2025-07-03T05:14:58.046058",
     "exception": false,
     "start_time": "2025-07-03T05:14:52.605307",
     "status": "completed"
    },
    "tags": []
   },
   "outputs": [
    {
     "name": "stdout",
     "output_type": "stream",
     "text": [
      "Total samples: 476\n",
      "Batches: 15\n",
      "\u001b[1m15/15\u001b[0m \u001b[32m━━━━━━━━━━━━━━━━━━━━\u001b[0m\u001b[37m\u001b[0m \u001b[1m5s\u001b[0m 101ms/step - accuracy: 0.9528 - loss: 0.1231\n",
      "\n",
      "Test Accuracy: 0.9601\n"
     ]
    }
   ],
   "source": [
    "# Load test data\n",
    "path = '/kaggle/input/signature-verification-dataset/sign_data/test'\n",
    "pairs, labels = load_signature_pairs(path)\n",
    "\n",
    "print(\"Total samples:\", len(pairs))\n",
    "\n",
    "test_dataset = make_tf_dataset(pairs, labels, batch_size=32)\n",
    "print(\"Batches:\", tf.data.experimental.cardinality(test_dataset).numpy())\n",
    "\n",
    "# Evaluate model\n",
    "loss, accuracy = siamese_model.evaluate(test_dataset)\n",
    "print(f\"\\nTest Accuracy: {accuracy:.4f}\")"
   ]
  },
  {
   "cell_type": "code",
   "execution_count": 10,
   "id": "b1bbe6fd",
   "metadata": {
    "execution": {
     "iopub.execute_input": "2025-07-03T05:14:58.097275Z",
     "iopub.status.busy": "2025-07-03T05:14:58.097036Z",
     "iopub.status.idle": "2025-07-03T05:14:58.678024Z",
     "shell.execute_reply": "2025-07-03T05:14:58.677347Z"
    },
    "papermill": {
     "duration": 0.607894,
     "end_time": "2025-07-03T05:14:58.679138",
     "exception": false,
     "start_time": "2025-07-03T05:14:58.071244",
     "status": "completed"
    },
    "tags": []
   },
   "outputs": [
    {
     "name": "stdout",
     "output_type": "stream",
     "text": [
      "\u001b[1m1/1\u001b[0m \u001b[32m━━━━━━━━━━━━━━━━━━━━\u001b[0m\u001b[37m\u001b[0m \u001b[1m0s\u001b[0m 498ms/step\n",
      "Similarity Score: 0.0305\n",
      "Forged \n"
     ]
    }
   ],
   "source": [
    "img_1 = '/kaggle/input/signature-verification-dataset/sign_data/test/049/01_049.png'\n",
    "img_1_forg = '/kaggle/input/signature-verification-dataset/sign_data/test/049_forg/01_0114049.PNG'\n",
    "def predict_similarity(model, img_path1, img_path2):\n",
    "    img1 = preprocess_image(img_path1)\n",
    "    img2 = preprocess_image(img_path2)\n",
    "\n",
    "    # Add batch dimension: (1, 224, 224, 1)\n",
    "    img1 = tf.expand_dims(img1, axis=0)\n",
    "    img2 = tf.expand_dims(img2, axis=0)\n",
    "\n",
    "    prediction = model.predict([img1, img2])[0][0]  # sigmoid output\n",
    "\n",
    "    print(f\"Similarity Score: {prediction:.4f}\")\n",
    "    if prediction >= 0.5:\n",
    "        print(\"Genuine\")\n",
    "    else:\n",
    "        print(\"Forged \")\n",
    "\n",
    "predict_similarity(siamese_model, img_1, img_1_forg)"
   ]
  },
  {
   "cell_type": "markdown",
   "id": "64dd7cc0",
   "metadata": {
    "papermill": {
     "duration": 0.023739,
     "end_time": "2025-07-03T05:14:58.727706",
     "exception": false,
     "start_time": "2025-07-03T05:14:58.703967",
     "status": "completed"
    },
    "tags": []
   },
   "source": [
    "#### save the model and some signatures to test"
   ]
  },
  {
   "cell_type": "code",
   "execution_count": 11,
   "id": "a47a702f",
   "metadata": {
    "execution": {
     "iopub.execute_input": "2025-07-03T05:14:58.776587Z",
     "iopub.status.busy": "2025-07-03T05:14:58.776001Z",
     "iopub.status.idle": "2025-07-03T05:14:58.796097Z",
     "shell.execute_reply": "2025-07-03T05:14:58.795546Z"
    },
    "papermill": {
     "duration": 0.045822,
     "end_time": "2025-07-03T05:14:58.797269",
     "exception": false,
     "start_time": "2025-07-03T05:14:58.751447",
     "status": "completed"
    },
    "tags": []
   },
   "outputs": [],
   "source": [
    "import zipfile\n",
    "\n",
    "# Map custom names to original paths\n",
    "files_to_download = {\n",
    "    'img_1.png': '/kaggle/input/signature-verification-dataset/sign_data/test/049/01_049.png',\n",
    "    'img_1_gen.png': '/kaggle/input/signature-verification-dataset/sign_data/test/049/05_049.png',\n",
    "    'img_1_forg.png': '/kaggle/input/signature-verification-dataset/sign_data/test/049_forg/01_0114049.PNG',\n",
    "    'img_2.png': '/kaggle/input/signature-verification-dataset/sign_data/test/050/01_050.png',\n",
    "    'img_2_gen.png': '/kaggle/input/signature-verification-dataset/sign_data/test/050/05_050.png',\n",
    "    'img_2_forg.png': '/kaggle/input/signature-verification-dataset/sign_data/test/050_forg/01_0125050.PNG',\n",
    "    'img_3.png': '/kaggle/input/signature-verification-dataset/sign_data/test/063/01_063.png',\n",
    "    'img_3_gen.png': '/kaggle/input/signature-verification-dataset/sign_data/test/063/04_063.png',\n",
    "    'img_3_forg.png': '/kaggle/input/signature-verification-dataset/sign_data/test/063_forg/01_0104063.PNG'\n",
    "}\n",
    "\n",
    "# Create a zip file with custom names\n",
    "with zipfile.ZipFile('/kaggle/working/signatures.zip', 'w') as zipf:\n",
    "    for custom_name, file_path in files_to_download.items():\n",
    "        zipf.write(file_path, arcname=custom_name)\n"
   ]
  },
  {
   "cell_type": "code",
   "execution_count": 12,
   "id": "94de7ae0",
   "metadata": {
    "execution": {
     "iopub.execute_input": "2025-07-03T05:14:58.900098Z",
     "iopub.status.busy": "2025-07-03T05:14:58.899395Z",
     "iopub.status.idle": "2025-07-03T05:14:58.987034Z",
     "shell.execute_reply": "2025-07-03T05:14:58.986461Z"
    },
    "papermill": {
     "duration": 0.1658,
     "end_time": "2025-07-03T05:14:58.988319",
     "exception": false,
     "start_time": "2025-07-03T05:14:58.822519",
     "status": "completed"
    },
    "tags": []
   },
   "outputs": [],
   "source": [
    "# siamese_model.save(\"siamese_signature.keras\")\n",
    "# siamese_model.save('siamese_signature_noNorm.h5')\n",
    "siamese_model.save(\"siamese_no_lambda.h5\")\n",
    "siamese_model.save_weights(\"/kaggle/working/siamese.weights.h5\")"
   ]
  },
  {
   "cell_type": "code",
   "execution_count": 13,
   "id": "165f944f",
   "metadata": {
    "execution": {
     "iopub.execute_input": "2025-07-03T05:14:59.039132Z",
     "iopub.status.busy": "2025-07-03T05:14:59.038258Z",
     "iopub.status.idle": "2025-07-03T05:15:01.594404Z",
     "shell.execute_reply": "2025-07-03T05:15:01.593727Z"
    },
    "papermill": {
     "duration": 2.582385,
     "end_time": "2025-07-03T05:15:01.595711",
     "exception": false,
     "start_time": "2025-07-03T05:14:59.013326",
     "status": "completed"
    },
    "tags": []
   },
   "outputs": [
    {
     "name": "stdout",
     "output_type": "stream",
     "text": [
      "\u001b[1m4/4\u001b[0m \u001b[32m━━━━━━━━━━━━━━━━━━━━\u001b[0m\u001b[37m\u001b[0m \u001b[1m0s\u001b[0m 23ms/step\n",
      "\u001b[1m4/4\u001b[0m \u001b[32m━━━━━━━━━━━━━━━━━━━━\u001b[0m\u001b[37m\u001b[0m \u001b[1m0s\u001b[0m 23ms/step\n",
      "\u001b[1m4/4\u001b[0m \u001b[32m━━━━━━━━━━━━━━━━━━━━\u001b[0m\u001b[37m\u001b[0m \u001b[1m0s\u001b[0m 22ms/step\n",
      "\u001b[1m3/3\u001b[0m \u001b[32m━━━━━━━━━━━━━━━━━━━━\u001b[0m\u001b[37m\u001b[0m \u001b[1m0s\u001b[0m 121ms/step\n",
      "Genuine: mean=0.984, std=0.002\n",
      "Forged : mean=0.124, std=0.221\n",
      "Recommended threshold: 0.5543854236602783\n"
     ]
    }
   ],
   "source": [
    "import numpy as np\n",
    "\n",
    "pairs_test, labels_test = load_signature_pairs(path)\n",
    "ds = make_tf_dataset(pairs_test, labels_test, batch_size=128, shuffle=False)\n",
    "\n",
    "# Gather all scores and labels\n",
    "all_scores = []\n",
    "all_labels = []\n",
    "for (x1, x2), y in ds:\n",
    "    scores = siamese_model.predict([x1, x2]).flatten()\n",
    "    all_scores.append(scores)\n",
    "    all_labels.append(y.numpy())\n",
    "all_scores = np.concatenate(all_scores)\n",
    "all_labels = np.concatenate(all_labels)\n",
    "\n",
    "# Compute means\n",
    "genuine_scores = all_scores[all_labels == 1]\n",
    "forged_scores  = all_scores[all_labels == 0]\n",
    "print(\"Genuine: mean=%.3f, std=%.3f\" % (genuine_scores.mean(), genuine_scores.std()))\n",
    "print(\"Forged : mean=%.3f, std=%.3f\" % (forged_scores.mean(), forged_scores.std()))\n",
    "\n",
    "# Pick threshold in between the means\n",
    "threshold = (genuine_scores.mean() + forged_scores.mean()) / 2\n",
    "print(\"Recommended threshold:\", threshold)\n"
   ]
  },
  {
   "cell_type": "code",
   "execution_count": null,
   "id": "fe54e742",
   "metadata": {
    "papermill": {
     "duration": 0.024806,
     "end_time": "2025-07-03T05:15:01.645865",
     "exception": false,
     "start_time": "2025-07-03T05:15:01.621059",
     "status": "completed"
    },
    "tags": []
   },
   "outputs": [],
   "source": []
  }
 ],
 "metadata": {
  "kaggle": {
   "accelerator": "gpu",
   "dataSources": [
    {
     "datasetId": 107946,
     "sourceId": 262177,
     "sourceType": "datasetVersion"
    }
   ],
   "dockerImageVersionId": 31041,
   "isGpuEnabled": true,
   "isInternetEnabled": true,
   "language": "python",
   "sourceType": "notebook"
  },
  "kernelspec": {
   "display_name": "Python 3",
   "language": "python",
   "name": "python3"
  },
  "language_info": {
   "codemirror_mode": {
    "name": "ipython",
    "version": 3
   },
   "file_extension": ".py",
   "mimetype": "text/x-python",
   "name": "python",
   "nbconvert_exporter": "python",
   "pygments_lexer": "ipython3",
   "version": "3.11.11"
  },
  "papermill": {
   "default_parameters": {},
   "duration": 104.325384,
   "end_time": "2025-07-03T05:15:04.982591",
   "environment_variables": {},
   "exception": null,
   "input_path": "__notebook__.ipynb",
   "output_path": "__notebook__.ipynb",
   "parameters": {},
   "start_time": "2025-07-03T05:13:20.657207",
   "version": "2.6.0"
  }
 },
 "nbformat": 4,
 "nbformat_minor": 5
}
