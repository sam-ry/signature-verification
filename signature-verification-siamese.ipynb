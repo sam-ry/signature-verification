{
 "cells": [
  {
   "cell_type": "markdown",
   "id": "a2d11a79",
   "metadata": {
    "papermill": {
     "duration": 0.00451,
     "end_time": "2025-07-02T18:15:44.839840",
     "exception": false,
     "start_time": "2025-07-02T18:15:44.835330",
     "status": "completed"
    },
    "tags": []
   },
   "source": [
    "## Signature Verification using Siamese Networks"
   ]
  },
  {
   "cell_type": "markdown",
   "id": "a37155d8",
   "metadata": {
    "papermill": {
     "duration": 0.003257,
     "end_time": "2025-07-02T18:15:44.846847",
     "exception": false,
     "start_time": "2025-07-02T18:15:44.843590",
     "status": "completed"
    },
    "tags": []
   },
   "source": [
    "#### work flow\n",
    "input - 2 images and a label  \n",
    "get embeddings from a basic model (EffitientNet overfits)  \n",
    "calculate similarity - how close these 2 vectors are in space  \n",
    "The label (1 or 0) supervises this learning:\n",
    "If two images are labeled as similar (1) but embeddings are far → loss is high → update weights.\n",
    "If labeled as different (0) but embeddings are close → loss is high → update weights.  \n",
    "higher similarity -> Genuine, lower -> forged"
   ]
  },
  {
   "cell_type": "code",
   "execution_count": 1,
   "id": "a6ed1bb4",
   "metadata": {
    "_cell_guid": "b1076dfc-b9ad-4769-8c92-a6c4dae69d19",
    "_uuid": "8f2839f25d086af736a60e9eeb907d3b93b6e0e5",
    "execution": {
     "iopub.execute_input": "2025-07-02T18:15:44.854713Z",
     "iopub.status.busy": "2025-07-02T18:15:44.854408Z",
     "iopub.status.idle": "2025-07-02T18:16:00.580658Z",
     "shell.execute_reply": "2025-07-02T18:16:00.580008Z"
    },
    "papermill": {
     "duration": 15.731834,
     "end_time": "2025-07-02T18:16:00.582118",
     "exception": false,
     "start_time": "2025-07-02T18:15:44.850284",
     "status": "completed"
    },
    "tags": []
   },
   "outputs": [
    {
     "name": "stderr",
     "output_type": "stream",
     "text": [
      "2025-07-02 18:15:46.479740: E external/local_xla/xla/stream_executor/cuda/cuda_fft.cc:477] Unable to register cuFFT factory: Attempting to register factory for plugin cuFFT when one has already been registered\n",
      "WARNING: All log messages before absl::InitializeLog() is called are written to STDERR\n",
      "E0000 00:00:1751480146.665296      19 cuda_dnn.cc:8310] Unable to register cuDNN factory: Attempting to register factory for plugin cuDNN when one has already been registered\n",
      "E0000 00:00:1751480146.718789      19 cuda_blas.cc:1418] Unable to register cuBLAS factory: Attempting to register factory for plugin cuBLAS when one has already been registered\n"
     ]
    }
   ],
   "source": [
    "import tensorflow as tf\n",
    "import os"
   ]
  },
  {
   "cell_type": "code",
   "execution_count": 2,
   "id": "d1149192",
   "metadata": {
    "execution": {
     "iopub.execute_input": "2025-07-02T18:16:00.590726Z",
     "iopub.status.busy": "2025-07-02T18:16:00.590211Z",
     "iopub.status.idle": "2025-07-02T18:16:00.616456Z",
     "shell.execute_reply": "2025-07-02T18:16:00.615614Z"
    },
    "papermill": {
     "duration": 0.031755,
     "end_time": "2025-07-02T18:16:00.617843",
     "exception": false,
     "start_time": "2025-07-02T18:16:00.586088",
     "status": "completed"
    },
    "tags": []
   },
   "outputs": [
    {
     "name": "stdout",
     "output_type": "stream",
     "text": [
      "training data directories 128\n"
     ]
    }
   ],
   "source": [
    "path = '/kaggle/input/signature-verification-dataset/sign_data/train'\n",
    "ls = os.listdir(path)\n",
    "print('training data directories',len(ls))"
   ]
  },
  {
   "cell_type": "markdown",
   "id": "d5fa2ba7",
   "metadata": {
    "papermill": {
     "duration": 0.003485,
     "end_time": "2025-07-02T18:16:00.625254",
     "exception": false,
     "start_time": "2025-07-02T18:16:00.621769",
     "status": "completed"
    },
    "tags": []
   },
   "source": [
    "#### Preprocess & Pair the signatures\n"
   ]
  },
  {
   "cell_type": "markdown",
   "id": "a85bf6f1",
   "metadata": {
    "papermill": {
     "duration": 0.003296,
     "end_time": "2025-07-02T18:16:00.632121",
     "exception": false,
     "start_time": "2025-07-02T18:16:00.628825",
     "status": "completed"
    },
    "tags": []
   },
   "source": [
    "input format: ( (img1, img2), label)  \n",
    "label = 1: Two genuine signatures from the same person.  \n",
    "label = 0: One genuine and one forged signature from the same person.  "
   ]
  },
  {
   "cell_type": "code",
   "execution_count": 3,
   "id": "f16fb149",
   "metadata": {
    "execution": {
     "iopub.execute_input": "2025-07-02T18:16:00.640543Z",
     "iopub.status.busy": "2025-07-02T18:16:00.639909Z",
     "iopub.status.idle": "2025-07-02T18:16:00.646880Z",
     "shell.execute_reply": "2025-07-02T18:16:00.646140Z"
    },
    "papermill": {
     "duration": 0.012374,
     "end_time": "2025-07-02T18:16:00.648013",
     "exception": false,
     "start_time": "2025-07-02T18:16:00.635639",
     "status": "completed"
    },
    "tags": []
   },
   "outputs": [],
   "source": [
    "import random\n",
    "from PIL import Image\n",
    "import numpy as np\n",
    "\n",
    "def load_signature_pairs(data_dir):\n",
    "    pairs = []\n",
    "    labels = []\n",
    "    \n",
    "    users = sorted([name for name in os.listdir(data_dir) if '_' not in name])\n",
    "    \n",
    "    for user in users:\n",
    "        genuine_dir = os.path.join(data_dir, user)\n",
    "        forg_dir = genuine_dir + '_forg'\n",
    "        \n",
    "        genuine_imgs = os.listdir(genuine_dir)\n",
    "        forgery_imgs = os.listdir(forg_dir)\n",
    "        \n",
    "        num_genuine = len(genuine_imgs)\n",
    "        \n",
    "        # Random positive pairs (genuine vs different genuine)\n",
    "        random_indices = [\n",
    "            random.choice([j for j in range(num_genuine) if j != i])\n",
    "            for i in range(num_genuine)\n",
    "        ]\n",
    "        \n",
    "        for i in range(num_genuine):\n",
    "            img1 = os.path.join(genuine_dir, genuine_imgs[i])\n",
    "            img2 = os.path.join(genuine_dir, genuine_imgs[random_indices[i]])\n",
    "            pairs.append((img1, img2))\n",
    "            labels.append(1)\n",
    "\n",
    "        # Negative pairs (genuine vs forgery)\n",
    "        for i in range(min(len(genuine_imgs), len(forgery_imgs))):\n",
    "            img1 = os.path.join(genuine_dir, genuine_imgs[i])\n",
    "            img2 = os.path.join(forg_dir, forgery_imgs[i])\n",
    "            pairs.append((img1, img2))\n",
    "            labels.append(0)\n",
    "    \n",
    "    return pairs, labels\n"
   ]
  },
  {
   "cell_type": "code",
   "execution_count": 4,
   "id": "370ec5bd",
   "metadata": {
    "execution": {
     "iopub.execute_input": "2025-07-02T18:16:00.656153Z",
     "iopub.status.busy": "2025-07-02T18:16:00.655928Z",
     "iopub.status.idle": "2025-07-02T18:16:02.424365Z",
     "shell.execute_reply": "2025-07-02T18:16:02.423427Z"
    },
    "papermill": {
     "duration": 1.774539,
     "end_time": "2025-07-02T18:16:02.426252",
     "exception": false,
     "start_time": "2025-07-02T18:16:00.651713",
     "status": "completed"
    },
    "tags": []
   },
   "outputs": [
    {
     "name": "stdout",
     "output_type": "stream",
     "text": [
      "1606 1606\n"
     ]
    }
   ],
   "source": [
    "path = '/kaggle/input/signature-verification-dataset/sign_data/train'\n",
    "pairs, labels = load_signature_pairs(path)\n",
    "print(len(pairs), len(labels))"
   ]
  },
  {
   "cell_type": "markdown",
   "id": "a2726cef",
   "metadata": {
    "papermill": {
     "duration": 0.003675,
     "end_time": "2025-07-02T18:16:02.441500",
     "exception": false,
     "start_time": "2025-07-02T18:16:02.437825",
     "status": "completed"
    },
    "tags": []
   },
   "source": [
    "### backbone"
   ]
  },
  {
   "cell_type": "markdown",
   "id": "d81975fc",
   "metadata": {
    "papermill": {
     "duration": 0.003573,
     "end_time": "2025-07-02T18:16:02.449034",
     "exception": false,
     "start_time": "2025-07-02T18:16:02.445461",
     "status": "completed"
    },
    "tags": []
   },
   "source": [
    "caluculate embeddings for each image to compare similarity (how close they are in space)  \n",
    "Input: 224×224 grayscale image  \n",
    "Output: 256-dimensional embedding for input image."
   ]
  },
  {
   "cell_type": "code",
   "execution_count": 5,
   "id": "1030ee9e",
   "metadata": {
    "execution": {
     "iopub.execute_input": "2025-07-02T18:16:02.459262Z",
     "iopub.status.busy": "2025-07-02T18:16:02.458978Z",
     "iopub.status.idle": "2025-07-02T18:16:02.519128Z",
     "shell.execute_reply": "2025-07-02T18:16:02.518513Z"
    },
    "papermill": {
     "duration": 0.067505,
     "end_time": "2025-07-02T18:16:02.520400",
     "exception": false,
     "start_time": "2025-07-02T18:16:02.452895",
     "status": "completed"
    },
    "tags": []
   },
   "outputs": [],
   "source": [
    "from tensorflow.keras import layers, Model\n",
    "# from tensorflow.keras.applications import EfficientNetB0\n",
    "\n",
    "IMG_SIZE = 224\n",
    "# custom layer for L2 normalization\n",
    "class L2Normalization(tf.keras.layers.Layer):\n",
    "    def call(self, inputs):\n",
    "        return tf.nn.l2_normalize(inputs, axis=1)\n",
    "\n",
    "def build_backbone():\n",
    "    # # Load EfficientNet WITHOUT pretrained weights\n",
    "    # base_model = EfficientNetB0(weights=None, include_top=False, input_shape=(IMG_SIZE, IMG_SIZE, 1))\n",
    "    # base_model.trainable = True  # Allow training the backbone\n",
    "    # x = layers.GlobalAveragePooling2D()(base_model.output)  # Flatten spatial features\n",
    "    # x = layers.Dense(256, activation='relu')(x)  # Trainable embedding layer\n",
    "    # x = layers.Lambda(lambda x: tf.math.l2_normalize(x, axis=1))(x)  # Normalize embeddings\n",
    "    # return Model(base_model.input, x, name=\"EfficientNetBackbone\")\n",
    "    \n",
    "    inputs = tf.keras.Input(shape=(224, 224, 1))\n",
    "    x = layers.Conv2D(64, 3, activation='relu')(inputs) # basic feature extraction\n",
    "    x = layers.MaxPooling2D()(x) # reduces spatial size\n",
    "    x = layers.Conv2D(128, 3, activation='relu')(x) # d eeper pattern detection\n",
    "    x = layers.GlobalAveragePooling2D()(x) # flattens spatial info into a single vector\n",
    "    x = layers.Dense(256, activation='relu')(x) # embedding layer\n",
    "    # x = layers.Lambda(lambda x: tf.math.l2_normalize(x, axis=1))(x) # scales output to unit length (for similarity comparison)\n",
    "    # x = tf.nn.l2_normalize(x, axis=1)\n",
    "    x = L2Normalization()(x)\n",
    "    return Model(inputs, x, name=\"SimpleCNNBackbone\")\n"
   ]
  },
  {
   "cell_type": "markdown",
   "id": "fe124db2",
   "metadata": {
    "papermill": {
     "duration": 0.003479,
     "end_time": "2025-07-02T18:16:02.527844",
     "exception": false,
     "start_time": "2025-07-02T18:16:02.524365",
     "status": "completed"
    },
    "tags": []
   },
   "source": [
    "Feature Extraction:\n",
    "Pass both images through the backbone (shared weights) to get embeddings.  \n",
    "Similarity Calculation:\n",
    "Use L1 distance (absolute difference) between the two embeddings.  \n",
    "Output Layer:\n",
    "sigmoid activation gives a similarity score (between 0 and 1).  \n"
   ]
  },
  {
   "cell_type": "markdown",
   "id": "0918f9d6",
   "metadata": {
    "papermill": {
     "duration": 0.003351,
     "end_time": "2025-07-02T18:16:02.534705",
     "exception": false,
     "start_time": "2025-07-02T18:16:02.531354",
     "status": "completed"
    },
    "tags": []
   },
   "source": [
    "### siamese neural network"
   ]
  },
  {
   "cell_type": "code",
   "execution_count": 6,
   "id": "d276b123",
   "metadata": {
    "execution": {
     "iopub.execute_input": "2025-07-02T18:16:02.543104Z",
     "iopub.status.busy": "2025-07-02T18:16:02.542881Z",
     "iopub.status.idle": "2025-07-02T18:16:02.547720Z",
     "shell.execute_reply": "2025-07-02T18:16:02.547119Z"
    },
    "papermill": {
     "duration": 0.009986,
     "end_time": "2025-07-02T18:16:02.548685",
     "exception": false,
     "start_time": "2025-07-02T18:16:02.538699",
     "status": "completed"
    },
    "tags": []
   },
   "outputs": [],
   "source": [
    "import tensorflow as tf\n",
    "from tensorflow.keras import layers, Model\n",
    "\n",
    "def build_siamese_network(backbone):\n",
    "    input_1 = layers.Input(shape=(224, 224, 1), name=\"image_1\")\n",
    "    input_2 = layers.Input(shape=(224, 224, 1), name=\"image_2\")\n",
    "\n",
    "    # Extract embeddings from both images\n",
    "    embed_1 = backbone(input_1)\n",
    "    embed_2 = backbone(input_2)\n",
    "\n",
    "    # Distance layer (L1 distance)\n",
    "    distance = layers.Lambda(lambda tensors: tf.abs(tensors[0] - tensors[1]))([embed_1, embed_2])\n",
    "\n",
    "    # Final classification head\n",
    "    output = layers.Dense(1, activation='sigmoid')(distance)\n",
    "\n",
    "    model = Model(inputs=[input_1, input_2], outputs=output, name=\"SiameseNetwork\")\n",
    "    return model\n"
   ]
  },
  {
   "cell_type": "code",
   "execution_count": 7,
   "id": "66da5861",
   "metadata": {
    "execution": {
     "iopub.execute_input": "2025-07-02T18:16:02.556717Z",
     "iopub.status.busy": "2025-07-02T18:16:02.556498Z",
     "iopub.status.idle": "2025-07-02T18:16:05.133319Z",
     "shell.execute_reply": "2025-07-02T18:16:05.132755Z"
    },
    "papermill": {
     "duration": 2.582074,
     "end_time": "2025-07-02T18:16:05.134404",
     "exception": false,
     "start_time": "2025-07-02T18:16:02.552330",
     "status": "completed"
    },
    "tags": []
   },
   "outputs": [
    {
     "name": "stderr",
     "output_type": "stream",
     "text": [
      "I0000 00:00:1751480163.844130      19 gpu_device.cc:2022] Created device /job:localhost/replica:0/task:0/device:GPU:0 with 15513 MB memory:  -> device: 0, name: Tesla P100-PCIE-16GB, pci bus id: 0000:00:04.0, compute capability: 6.0\n"
     ]
    },
    {
     "data": {
      "text/html": [
       "<pre style=\"white-space:pre;overflow-x:auto;line-height:normal;font-family:Menlo,'DejaVu Sans Mono',consolas,'Courier New',monospace\"><span style=\"font-weight: bold\">Model: \"SiameseNetwork\"</span>\n",
       "</pre>\n"
      ],
      "text/plain": [
       "\u001b[1mModel: \"SiameseNetwork\"\u001b[0m\n"
      ]
     },
     "metadata": {},
     "output_type": "display_data"
    },
    {
     "data": {
      "text/html": [
       "<pre style=\"white-space:pre;overflow-x:auto;line-height:normal;font-family:Menlo,'DejaVu Sans Mono',consolas,'Courier New',monospace\">┏━━━━━━━━━━━━━━━━━━━━━━━━━━━┳━━━━━━━━━━━━━━━━━━━━━━━━┳━━━━━━━━━━━━━━━━┳━━━━━━━━━━━━━━━━━━━━━━━━┓\n",
       "┃<span style=\"font-weight: bold\"> Layer (type)              </span>┃<span style=\"font-weight: bold\"> Output Shape           </span>┃<span style=\"font-weight: bold\">        Param # </span>┃<span style=\"font-weight: bold\"> Connected to           </span>┃\n",
       "┡━━━━━━━━━━━━━━━━━━━━━━━━━━━╇━━━━━━━━━━━━━━━━━━━━━━━━╇━━━━━━━━━━━━━━━━╇━━━━━━━━━━━━━━━━━━━━━━━━┩\n",
       "│ image_1 (<span style=\"color: #0087ff; text-decoration-color: #0087ff\">InputLayer</span>)      │ (<span style=\"color: #00d7ff; text-decoration-color: #00d7ff\">None</span>, <span style=\"color: #00af00; text-decoration-color: #00af00\">224</span>, <span style=\"color: #00af00; text-decoration-color: #00af00\">224</span>, <span style=\"color: #00af00; text-decoration-color: #00af00\">1</span>)    │              <span style=\"color: #00af00; text-decoration-color: #00af00\">0</span> │ -                      │\n",
       "├───────────────────────────┼────────────────────────┼────────────────┼────────────────────────┤\n",
       "│ image_2 (<span style=\"color: #0087ff; text-decoration-color: #0087ff\">InputLayer</span>)      │ (<span style=\"color: #00d7ff; text-decoration-color: #00d7ff\">None</span>, <span style=\"color: #00af00; text-decoration-color: #00af00\">224</span>, <span style=\"color: #00af00; text-decoration-color: #00af00\">224</span>, <span style=\"color: #00af00; text-decoration-color: #00af00\">1</span>)    │              <span style=\"color: #00af00; text-decoration-color: #00af00\">0</span> │ -                      │\n",
       "├───────────────────────────┼────────────────────────┼────────────────┼────────────────────────┤\n",
       "│ SimpleCNNBackbone         │ (<span style=\"color: #00d7ff; text-decoration-color: #00d7ff\">None</span>, <span style=\"color: #00af00; text-decoration-color: #00af00\">256</span>)            │        <span style=\"color: #00af00; text-decoration-color: #00af00\">107,520</span> │ image_1[<span style=\"color: #00af00; text-decoration-color: #00af00\">0</span>][<span style=\"color: #00af00; text-decoration-color: #00af00\">0</span>],         │\n",
       "│ (<span style=\"color: #0087ff; text-decoration-color: #0087ff\">Functional</span>)              │                        │                │ image_2[<span style=\"color: #00af00; text-decoration-color: #00af00\">0</span>][<span style=\"color: #00af00; text-decoration-color: #00af00\">0</span>]          │\n",
       "├───────────────────────────┼────────────────────────┼────────────────┼────────────────────────┤\n",
       "│ lambda (<span style=\"color: #0087ff; text-decoration-color: #0087ff\">Lambda</span>)           │ (<span style=\"color: #00d7ff; text-decoration-color: #00d7ff\">None</span>, <span style=\"color: #00af00; text-decoration-color: #00af00\">256</span>)            │              <span style=\"color: #00af00; text-decoration-color: #00af00\">0</span> │ SimpleCNNBackbone[<span style=\"color: #00af00; text-decoration-color: #00af00\">0</span>][<span style=\"color: #00af00; text-decoration-color: #00af00\">…</span> │\n",
       "│                           │                        │                │ SimpleCNNBackbone[<span style=\"color: #00af00; text-decoration-color: #00af00\">1</span>][<span style=\"color: #00af00; text-decoration-color: #00af00\">…</span> │\n",
       "├───────────────────────────┼────────────────────────┼────────────────┼────────────────────────┤\n",
       "│ dense_1 (<span style=\"color: #0087ff; text-decoration-color: #0087ff\">Dense</span>)           │ (<span style=\"color: #00d7ff; text-decoration-color: #00d7ff\">None</span>, <span style=\"color: #00af00; text-decoration-color: #00af00\">1</span>)              │            <span style=\"color: #00af00; text-decoration-color: #00af00\">257</span> │ lambda[<span style=\"color: #00af00; text-decoration-color: #00af00\">0</span>][<span style=\"color: #00af00; text-decoration-color: #00af00\">0</span>]           │\n",
       "└───────────────────────────┴────────────────────────┴────────────────┴────────────────────────┘\n",
       "</pre>\n"
      ],
      "text/plain": [
       "┏━━━━━━━━━━━━━━━━━━━━━━━━━━━┳━━━━━━━━━━━━━━━━━━━━━━━━┳━━━━━━━━━━━━━━━━┳━━━━━━━━━━━━━━━━━━━━━━━━┓\n",
       "┃\u001b[1m \u001b[0m\u001b[1mLayer (type)             \u001b[0m\u001b[1m \u001b[0m┃\u001b[1m \u001b[0m\u001b[1mOutput Shape          \u001b[0m\u001b[1m \u001b[0m┃\u001b[1m \u001b[0m\u001b[1m       Param #\u001b[0m\u001b[1m \u001b[0m┃\u001b[1m \u001b[0m\u001b[1mConnected to          \u001b[0m\u001b[1m \u001b[0m┃\n",
       "┡━━━━━━━━━━━━━━━━━━━━━━━━━━━╇━━━━━━━━━━━━━━━━━━━━━━━━╇━━━━━━━━━━━━━━━━╇━━━━━━━━━━━━━━━━━━━━━━━━┩\n",
       "│ image_1 (\u001b[38;5;33mInputLayer\u001b[0m)      │ (\u001b[38;5;45mNone\u001b[0m, \u001b[38;5;34m224\u001b[0m, \u001b[38;5;34m224\u001b[0m, \u001b[38;5;34m1\u001b[0m)    │              \u001b[38;5;34m0\u001b[0m │ -                      │\n",
       "├───────────────────────────┼────────────────────────┼────────────────┼────────────────────────┤\n",
       "│ image_2 (\u001b[38;5;33mInputLayer\u001b[0m)      │ (\u001b[38;5;45mNone\u001b[0m, \u001b[38;5;34m224\u001b[0m, \u001b[38;5;34m224\u001b[0m, \u001b[38;5;34m1\u001b[0m)    │              \u001b[38;5;34m0\u001b[0m │ -                      │\n",
       "├───────────────────────────┼────────────────────────┼────────────────┼────────────────────────┤\n",
       "│ SimpleCNNBackbone         │ (\u001b[38;5;45mNone\u001b[0m, \u001b[38;5;34m256\u001b[0m)            │        \u001b[38;5;34m107,520\u001b[0m │ image_1[\u001b[38;5;34m0\u001b[0m][\u001b[38;5;34m0\u001b[0m],         │\n",
       "│ (\u001b[38;5;33mFunctional\u001b[0m)              │                        │                │ image_2[\u001b[38;5;34m0\u001b[0m][\u001b[38;5;34m0\u001b[0m]          │\n",
       "├───────────────────────────┼────────────────────────┼────────────────┼────────────────────────┤\n",
       "│ lambda (\u001b[38;5;33mLambda\u001b[0m)           │ (\u001b[38;5;45mNone\u001b[0m, \u001b[38;5;34m256\u001b[0m)            │              \u001b[38;5;34m0\u001b[0m │ SimpleCNNBackbone[\u001b[38;5;34m0\u001b[0m][\u001b[38;5;34m…\u001b[0m │\n",
       "│                           │                        │                │ SimpleCNNBackbone[\u001b[38;5;34m1\u001b[0m][\u001b[38;5;34m…\u001b[0m │\n",
       "├───────────────────────────┼────────────────────────┼────────────────┼────────────────────────┤\n",
       "│ dense_1 (\u001b[38;5;33mDense\u001b[0m)           │ (\u001b[38;5;45mNone\u001b[0m, \u001b[38;5;34m1\u001b[0m)              │            \u001b[38;5;34m257\u001b[0m │ lambda[\u001b[38;5;34m0\u001b[0m][\u001b[38;5;34m0\u001b[0m]           │\n",
       "└───────────────────────────┴────────────────────────┴────────────────┴────────────────────────┘\n"
      ]
     },
     "metadata": {},
     "output_type": "display_data"
    },
    {
     "data": {
      "text/html": [
       "<pre style=\"white-space:pre;overflow-x:auto;line-height:normal;font-family:Menlo,'DejaVu Sans Mono',consolas,'Courier New',monospace\"><span style=\"font-weight: bold\"> Total params: </span><span style=\"color: #00af00; text-decoration-color: #00af00\">107,777</span> (421.00 KB)\n",
       "</pre>\n"
      ],
      "text/plain": [
       "\u001b[1m Total params: \u001b[0m\u001b[38;5;34m107,777\u001b[0m (421.00 KB)\n"
      ]
     },
     "metadata": {},
     "output_type": "display_data"
    },
    {
     "data": {
      "text/html": [
       "<pre style=\"white-space:pre;overflow-x:auto;line-height:normal;font-family:Menlo,'DejaVu Sans Mono',consolas,'Courier New',monospace\"><span style=\"font-weight: bold\"> Trainable params: </span><span style=\"color: #00af00; text-decoration-color: #00af00\">107,777</span> (421.00 KB)\n",
       "</pre>\n"
      ],
      "text/plain": [
       "\u001b[1m Trainable params: \u001b[0m\u001b[38;5;34m107,777\u001b[0m (421.00 KB)\n"
      ]
     },
     "metadata": {},
     "output_type": "display_data"
    },
    {
     "data": {
      "text/html": [
       "<pre style=\"white-space:pre;overflow-x:auto;line-height:normal;font-family:Menlo,'DejaVu Sans Mono',consolas,'Courier New',monospace\"><span style=\"font-weight: bold\"> Non-trainable params: </span><span style=\"color: #00af00; text-decoration-color: #00af00\">0</span> (0.00 B)\n",
       "</pre>\n"
      ],
      "text/plain": [
       "\u001b[1m Non-trainable params: \u001b[0m\u001b[38;5;34m0\u001b[0m (0.00 B)\n"
      ]
     },
     "metadata": {},
     "output_type": "display_data"
    }
   ],
   "source": [
    "backbone = build_backbone()\n",
    "siamese_model = build_siamese_network(backbone)\n",
    "siamese_model.compile(optimizer='adam', loss='binary_crossentropy', metrics=['accuracy'])\n",
    "siamese_model.summary()\n"
   ]
  },
  {
   "cell_type": "markdown",
   "id": "609a10c8",
   "metadata": {
    "papermill": {
     "duration": 0.003924,
     "end_time": "2025-07-02T18:16:05.142824",
     "exception": false,
     "start_time": "2025-07-02T18:16:05.138900",
     "status": "completed"
    },
    "tags": []
   },
   "source": [
    "input image -> grayscale, [224, 224] px, normalized"
   ]
  },
  {
   "cell_type": "code",
   "execution_count": 8,
   "id": "f8c83c2b",
   "metadata": {
    "execution": {
     "iopub.execute_input": "2025-07-02T18:16:05.152143Z",
     "iopub.status.busy": "2025-07-02T18:16:05.151588Z",
     "iopub.status.idle": "2025-07-02T18:16:05.155793Z",
     "shell.execute_reply": "2025-07-02T18:16:05.155020Z"
    },
    "papermill": {
     "duration": 0.010061,
     "end_time": "2025-07-02T18:16:05.156959",
     "exception": false,
     "start_time": "2025-07-02T18:16:05.146898",
     "status": "completed"
    },
    "tags": []
   },
   "outputs": [],
   "source": [
    "def preprocess_image(path):\n",
    "    image = tf.io.read_file(path)\n",
    "    image = tf.image.decode_png(image, channels=1)  # grayscale\n",
    "    image = tf.image.resize(image, [224, 224])\n",
    "    image = tf.cast(image, tf.float32) / 255.0\n",
    "    return image  # shape: (224, 224, 1)"
   ]
  },
  {
   "cell_type": "code",
   "execution_count": 9,
   "id": "1a3fd854",
   "metadata": {
    "execution": {
     "iopub.execute_input": "2025-07-02T18:16:05.166419Z",
     "iopub.status.busy": "2025-07-02T18:16:05.165930Z",
     "iopub.status.idle": "2025-07-02T18:16:05.170169Z",
     "shell.execute_reply": "2025-07-02T18:16:05.169659Z"
    },
    "papermill": {
     "duration": 0.009889,
     "end_time": "2025-07-02T18:16:05.171116",
     "exception": false,
     "start_time": "2025-07-02T18:16:05.161227",
     "status": "completed"
    },
    "tags": []
   },
   "outputs": [],
   "source": [
    "def make_tf_dataset(pairs, labels, batch_size=32, shuffle=True):\n",
    "    path_ds = tf.data.Dataset.from_tensor_slices((pairs, labels))\n",
    "\n",
    "    def load_images(pair, label):\n",
    "        img1 = preprocess_image(pair[0])\n",
    "        img2 = preprocess_image(pair[1])\n",
    "        return (img1, img2), label\n",
    "\n",
    "    dataset = path_ds.map(load_images, num_parallel_calls=tf.data.AUTOTUNE)\n",
    "    # num_parallel_calls=tf.data.AUTOTUNE lets TensorFlow load multiple images in parallel = faster.\n",
    "    dataset = dataset.shuffle(1000).batch(batch_size).prefetch(tf.data.AUTOTUNE)\n",
    "    return dataset"
   ]
  },
  {
   "cell_type": "code",
   "execution_count": 10,
   "id": "034ce855",
   "metadata": {
    "execution": {
     "iopub.execute_input": "2025-07-02T18:16:05.179788Z",
     "iopub.status.busy": "2025-07-02T18:16:05.179560Z",
     "iopub.status.idle": "2025-07-02T18:16:05.284080Z",
     "shell.execute_reply": "2025-07-02T18:16:05.283434Z"
    },
    "papermill": {
     "duration": 0.109983,
     "end_time": "2025-07-02T18:16:05.285108",
     "exception": false,
     "start_time": "2025-07-02T18:16:05.175125",
     "status": "completed"
    },
    "tags": []
   },
   "outputs": [
    {
     "name": "stdout",
     "output_type": "stream",
     "text": [
      "51\n"
     ]
    }
   ],
   "source": [
    "train_dataset = make_tf_dataset(pairs, labels, batch_size=32)\n",
    "print(len(train_dataset))"
   ]
  },
  {
   "cell_type": "code",
   "execution_count": 11,
   "id": "d0ccbae8",
   "metadata": {
    "execution": {
     "iopub.execute_input": "2025-07-02T18:16:05.293991Z",
     "iopub.status.busy": "2025-07-02T18:16:05.293799Z",
     "iopub.status.idle": "2025-07-02T18:17:15.959929Z",
     "shell.execute_reply": "2025-07-02T18:17:15.959296Z"
    },
    "papermill": {
     "duration": 70.67178,
     "end_time": "2025-07-02T18:17:15.960993",
     "exception": false,
     "start_time": "2025-07-02T18:16:05.289213",
     "status": "completed"
    },
    "tags": []
   },
   "outputs": [
    {
     "name": "stdout",
     "output_type": "stream",
     "text": [
      "Epoch 1/10\n"
     ]
    },
    {
     "name": "stderr",
     "output_type": "stream",
     "text": [
      "WARNING: All log messages before absl::InitializeLog() is called are written to STDERR\n",
      "I0000 00:00:1751480171.743390      57 service.cc:148] XLA service 0x7afcbc046b20 initialized for platform CUDA (this does not guarantee that XLA will be used). Devices:\n",
      "I0000 00:00:1751480171.744233      57 service.cc:156]   StreamExecutor device (0): Tesla P100-PCIE-16GB, Compute Capability 6.0\n",
      "I0000 00:00:1751480172.122511      57 cuda_dnn.cc:529] Loaded cuDNN version 90300\n"
     ]
    },
    {
     "name": "stdout",
     "output_type": "stream",
     "text": [
      "\u001b[1m 1/51\u001b[0m \u001b[37m━━━━━━━━━━━━━━━━━━━━\u001b[0m \u001b[1m9:02\u001b[0m 11s/step - accuracy: 0.5625 - loss: 0.6932"
     ]
    },
    {
     "name": "stderr",
     "output_type": "stream",
     "text": [
      "I0000 00:00:1751480175.988989      57 device_compiler.h:188] Compiled cluster using XLA!  This line is logged at most once for the lifetime of the process.\n"
     ]
    },
    {
     "name": "stdout",
     "output_type": "stream",
     "text": [
      "\u001b[1m51/51\u001b[0m \u001b[32m━━━━━━━━━━━━━━━━━━━━\u001b[0m\u001b[37m\u001b[0m \u001b[1m17s\u001b[0m 132ms/step - accuracy: 0.6920 - loss: 0.6784\n",
      "Epoch 2/10\n",
      "\u001b[1m51/51\u001b[0m \u001b[32m━━━━━━━━━━━━━━━━━━━━\u001b[0m\u001b[37m\u001b[0m \u001b[1m6s\u001b[0m 67ms/step - accuracy: 0.8247 - loss: 0.5891\n",
      "Epoch 3/10\n",
      "\u001b[1m51/51\u001b[0m \u001b[32m━━━━━━━━━━━━━━━━━━━━\u001b[0m\u001b[37m\u001b[0m \u001b[1m6s\u001b[0m 67ms/step - accuracy: 0.8876 - loss: 0.5203\n",
      "Epoch 4/10\n",
      "\u001b[1m51/51\u001b[0m \u001b[32m━━━━━━━━━━━━━━━━━━━━\u001b[0m\u001b[37m\u001b[0m \u001b[1m6s\u001b[0m 68ms/step - accuracy: 0.8966 - loss: 0.4962\n",
      "Epoch 5/10\n",
      "\u001b[1m51/51\u001b[0m \u001b[32m━━━━━━━━━━━━━━━━━━━━\u001b[0m\u001b[37m\u001b[0m \u001b[1m6s\u001b[0m 67ms/step - accuracy: 0.9081 - loss: 0.4733\n",
      "Epoch 6/10\n",
      "\u001b[1m51/51\u001b[0m \u001b[32m━━━━━━━━━━━━━━━━━━━━\u001b[0m\u001b[37m\u001b[0m \u001b[1m6s\u001b[0m 67ms/step - accuracy: 0.9156 - loss: 0.4506\n",
      "Epoch 7/10\n",
      "\u001b[1m51/51\u001b[0m \u001b[32m━━━━━━━━━━━━━━━━━━━━\u001b[0m\u001b[37m\u001b[0m \u001b[1m6s\u001b[0m 71ms/step - accuracy: 0.8960 - loss: 0.4325\n",
      "Epoch 8/10\n",
      "\u001b[1m51/51\u001b[0m \u001b[32m━━━━━━━━━━━━━━━━━━━━\u001b[0m\u001b[37m\u001b[0m \u001b[1m6s\u001b[0m 68ms/step - accuracy: 0.9145 - loss: 0.4264\n",
      "Epoch 9/10\n",
      "\u001b[1m51/51\u001b[0m \u001b[32m━━━━━━━━━━━━━━━━━━━━\u001b[0m\u001b[37m\u001b[0m \u001b[1m6s\u001b[0m 68ms/step - accuracy: 0.9088 - loss: 0.4008\n",
      "Epoch 10/10\n",
      "\u001b[1m51/51\u001b[0m \u001b[32m━━━━━━━━━━━━━━━━━━━━\u001b[0m\u001b[37m\u001b[0m \u001b[1m6s\u001b[0m 68ms/step - accuracy: 0.9090 - loss: 0.4010\n"
     ]
    },
    {
     "data": {
      "text/plain": [
       "<keras.src.callbacks.history.History at 0x7afd8b350e50>"
      ]
     },
     "execution_count": 11,
     "metadata": {},
     "output_type": "execute_result"
    }
   ],
   "source": [
    "siamese_model.fit(train_dataset, epochs=10)"
   ]
  },
  {
   "cell_type": "code",
   "execution_count": 12,
   "id": "7fc5890d",
   "metadata": {
    "execution": {
     "iopub.execute_input": "2025-07-02T18:17:16.011977Z",
     "iopub.status.busy": "2025-07-02T18:17:16.011757Z",
     "iopub.status.idle": "2025-07-02T18:17:21.849971Z",
     "shell.execute_reply": "2025-07-02T18:17:21.849197Z"
    },
    "papermill": {
     "duration": 5.86486,
     "end_time": "2025-07-02T18:17:21.851109",
     "exception": false,
     "start_time": "2025-07-02T18:17:15.986249",
     "status": "completed"
    },
    "tags": []
   },
   "outputs": [
    {
     "name": "stdout",
     "output_type": "stream",
     "text": [
      "Total samples: 476\n",
      "Batches: 15\n",
      "\u001b[1m15/15\u001b[0m \u001b[32m━━━━━━━━━━━━━━━━━━━━\u001b[0m\u001b[37m\u001b[0m \u001b[1m5s\u001b[0m 102ms/step - accuracy: 0.9702 - loss: 0.3212\n",
      "\n",
      "Test Accuracy: 0.9769\n"
     ]
    }
   ],
   "source": [
    "# Load test data\n",
    "path = '/kaggle/input/signature-verification-dataset/sign_data/test'\n",
    "pairs, labels = load_signature_pairs(path)\n",
    "\n",
    "print(\"Total samples:\", len(pairs))\n",
    "\n",
    "test_dataset = make_tf_dataset(pairs, labels, batch_size=32)\n",
    "print(\"Batches:\", tf.data.experimental.cardinality(test_dataset).numpy())\n",
    "\n",
    "# Evaluate model\n",
    "loss, accuracy = siamese_model.evaluate(test_dataset)\n",
    "print(f\"\\nTest Accuracy: {accuracy:.4f}\")"
   ]
  },
  {
   "cell_type": "code",
   "execution_count": 13,
   "id": "bc0b9629",
   "metadata": {
    "execution": {
     "iopub.execute_input": "2025-07-02T18:17:21.901566Z",
     "iopub.status.busy": "2025-07-02T18:17:21.901339Z",
     "iopub.status.idle": "2025-07-02T18:17:21.906186Z",
     "shell.execute_reply": "2025-07-02T18:17:21.905442Z"
    },
    "papermill": {
     "duration": 0.030791,
     "end_time": "2025-07-02T18:17:21.907223",
     "exception": false,
     "start_time": "2025-07-02T18:17:21.876432",
     "status": "completed"
    },
    "tags": []
   },
   "outputs": [],
   "source": [
    "img_path1 = '/kaggle/input/signature-verification-dataset/sign_data/train/017_forg/01_0107017.PNG'\n",
    "img_path2 = '/kaggle/input/signature-verification-dataset/sign_data/train/017/01_017.png'\n",
    "def predict_similarity(model, img_path1, img_path2):\n",
    "    img1 = preprocess_image(img_path1)\n",
    "    img2 = preprocess_image(img_path2)\n",
    "\n",
    "    # Add batch dimension: (1, 224, 224, 1)\n",
    "    img1 = tf.expand_dims(img1, axis=0)\n",
    "    img2 = tf.expand_dims(img2, axis=0)\n",
    "\n",
    "    prediction = model.predict([img1, img2])[0][0]  # sigmoid output\n",
    "\n",
    "    print(f\"Similarity Score: {prediction:.4f}\")\n",
    "    if prediction >= 0.5:\n",
    "        print(\"Genuine\")\n",
    "    else:\n",
    "        print(\"Forged \")"
   ]
  },
  {
   "cell_type": "code",
   "execution_count": 14,
   "id": "02fd3e2c",
   "metadata": {
    "execution": {
     "iopub.execute_input": "2025-07-02T18:17:21.957934Z",
     "iopub.status.busy": "2025-07-02T18:17:21.957708Z",
     "iopub.status.idle": "2025-07-02T18:17:22.541870Z",
     "shell.execute_reply": "2025-07-02T18:17:22.541111Z"
    },
    "papermill": {
     "duration": 0.610901,
     "end_time": "2025-07-02T18:17:22.542968",
     "exception": false,
     "start_time": "2025-07-02T18:17:21.932067",
     "status": "completed"
    },
    "tags": []
   },
   "outputs": [
    {
     "name": "stdout",
     "output_type": "stream",
     "text": [
      "\u001b[1m1/1\u001b[0m \u001b[32m━━━━━━━━━━━━━━━━━━━━\u001b[0m\u001b[37m\u001b[0m \u001b[1m1s\u001b[0m 502ms/step\n",
      "Similarity Score: 0.0276\n",
      "Forged \n"
     ]
    }
   ],
   "source": [
    "predict_similarity(siamese_model, img_path1, img_path2)"
   ]
  },
  {
   "cell_type": "markdown",
   "id": "9fe881d4",
   "metadata": {
    "papermill": {
     "duration": 0.07686,
     "end_time": "2025-07-02T18:17:22.645287",
     "exception": false,
     "start_time": "2025-07-02T18:17:22.568427",
     "status": "completed"
    },
    "tags": []
   },
   "source": [
    "save the model"
   ]
  },
  {
   "cell_type": "code",
   "execution_count": 15,
   "id": "3bd05a99",
   "metadata": {
    "execution": {
     "iopub.execute_input": "2025-07-02T18:17:22.697701Z",
     "iopub.status.busy": "2025-07-02T18:17:22.696922Z",
     "iopub.status.idle": "2025-07-02T18:17:22.758642Z",
     "shell.execute_reply": "2025-07-02T18:17:22.757880Z"
    },
    "papermill": {
     "duration": 0.089829,
     "end_time": "2025-07-02T18:17:22.759982",
     "exception": false,
     "start_time": "2025-07-02T18:17:22.670153",
     "status": "completed"
    },
    "tags": []
   },
   "outputs": [],
   "source": [
    "siamese_model.save(\"siamese_signature.keras\")\n",
    "# siamese_model.save('siamese_signature.h5')"
   ]
  },
  {
   "cell_type": "code",
   "execution_count": 16,
   "id": "15cedba2",
   "metadata": {
    "execution": {
     "iopub.execute_input": "2025-07-02T18:17:22.811446Z",
     "iopub.status.busy": "2025-07-02T18:17:22.811212Z",
     "iopub.status.idle": "2025-07-02T18:17:22.814357Z",
     "shell.execute_reply": "2025-07-02T18:17:22.813698Z"
    },
    "papermill": {
     "duration": 0.029435,
     "end_time": "2025-07-02T18:17:22.815396",
     "exception": false,
     "start_time": "2025-07-02T18:17:22.785961",
     "status": "completed"
    },
    "tags": []
   },
   "outputs": [],
   "source": [
    "# import shutil\n",
    "\n",
    "# shutil.make_archive(\"siamese_signature_model\", 'zip', \"siamese_signature_model\")"
   ]
  },
  {
   "cell_type": "code",
   "execution_count": null,
   "id": "fc9f279d",
   "metadata": {
    "papermill": {
     "duration": 0.024725,
     "end_time": "2025-07-02T18:17:22.864783",
     "exception": false,
     "start_time": "2025-07-02T18:17:22.840058",
     "status": "completed"
    },
    "tags": []
   },
   "outputs": [],
   "source": []
  }
 ],
 "metadata": {
  "kaggle": {
   "accelerator": "gpu",
   "dataSources": [
    {
     "datasetId": 107946,
     "sourceId": 262177,
     "sourceType": "datasetVersion"
    }
   ],
   "dockerImageVersionId": 31040,
   "isGpuEnabled": true,
   "isInternetEnabled": true,
   "language": "python",
   "sourceType": "notebook"
  },
  "kernelspec": {
   "display_name": "Python 3",
   "language": "python",
   "name": "python3"
  },
  "language_info": {
   "codemirror_mode": {
    "name": "ipython",
    "version": 3
   },
   "file_extension": ".py",
   "mimetype": "text/x-python",
   "name": "python",
   "nbconvert_exporter": "python",
   "pygments_lexer": "ipython3",
   "version": "3.11.11"
  },
  "papermill": {
   "default_parameters": {},
   "duration": 105.23867,
   "end_time": "2025-07-02T18:17:26.010699",
   "environment_variables": {},
   "exception": null,
   "input_path": "__notebook__.ipynb",
   "output_path": "__notebook__.ipynb",
   "parameters": {},
   "start_time": "2025-07-02T18:15:40.772029",
   "version": "2.6.0"
  }
 },
 "nbformat": 4,
 "nbformat_minor": 5
}
